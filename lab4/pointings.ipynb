{
 "cells": [
  {
   "cell_type": "code",
   "execution_count": 1,
   "metadata": {
    "ExecuteTime": {
     "end_time": "2023-04-11T18:36:06.121215Z",
     "start_time": "2023-04-11T18:36:05.663461Z"
    }
   },
   "outputs": [],
   "source": [
    "import cartopy.crs as ccrs\n",
    "import numpy as np\n",
    "import matplotlib\n",
    "import matplotlib.pyplot as plt\n",
    "%matplotlib inline\n",
    "matplotlib.rcParams['figure.figsize'] = [12, 10]"
   ]
  },
  {
   "cell_type": "markdown",
   "metadata": {},
   "source": [
    "## A Cautionary Tale\n",
    "\n",
    "Let's start with a cautionary tale about mapping out a region of sky.  Let's say we wish to map the Galactic pole ($b=+90^\\circ$) with a telescope that has an angular radius of $3^\\circ$ (i.e. a FWHM of $6^\\circ$). So we make an array of pointings spaced every $3^\\circ$ in longitude and latitude covering those regions:"
   ]
  },
  {
   "cell_type": "code",
   "execution_count": 2,
   "metadata": {},
   "outputs": [],
   "source": [
    "LAT = (160, 220)\n",
    "LON = (-70, -10)\n",
    "delta_spacing = 2 # deg"
   ]
  },
  {
   "cell_type": "code",
   "execution_count": 3,
   "metadata": {
    "ExecuteTime": {
     "end_time": "2023-04-11T18:36:06.142209Z",
     "start_time": "2023-04-11T18:36:06.137754Z"
    }
   },
   "outputs": [
    {
     "name": "stdout",
     "output_type": "stream",
     "text": [
      "Number of pointings: (664, 2)\n"
     ]
    }
   ],
   "source": [
    "delta_lat_conv = lambda b: delta_spacing / np.cos(np.deg2rad(b))\n",
    "glons = range(LON[0], LON[1], delta_spacing)\n",
    "\n",
    "pointings = []\n",
    "for b in glons:\n",
    "    lats = np.arange(LAT[0], LAT[1], delta_lat_conv(b))\n",
    "    b_col = [[L, b] for L in lats]\n",
    "    pointings += b_col\n",
    "    \n",
    "pointings = np.array(pointings)\n",
    "print('Number of pointings:', pointings.shape)"
   ]
  },
  {
   "cell_type": "code",
   "execution_count": 4,
   "metadata": {
    "ExecuteTime": {
     "end_time": "2023-04-11T18:36:06.780859Z",
     "start_time": "2023-04-11T18:36:06.573017Z"
    }
   },
   "outputs": [
    {
     "data": {
      "image/png": "[encoded data removed]",
      "text/plain": [
       "<Figure size 864x720 with 1 Axes>"
      ]
     },
     "metadata": {
      "needs_background": "light"
     },
     "output_type": "display_data"
    }
   ],
   "source": [
    "# plt.figure(figsize=(14, 1))\n",
    "plt.plot(pointings[:,0], pointings[:,1], 'k.')\n",
    "plt.grid()\n",
    "plt.xlabel('$\\ell$')\n",
    "# plt.xlim(-183,183)\n",
    "# plt.ylim(81,93)\n",
    "plt.ylabel('$b$')\n",
    "_ = plt.title('Pointings (Cylindrical)')"
   ]
  },
  {
   "cell_type": "markdown",
   "metadata": {},
   "source": [
    "This looks like a nice, regularly-spaced grid of pointings. But it isn't."
   ]
  },
  {
   "cell_type": "code",
   "execution_count": 5,
   "metadata": {
    "ExecuteTime": {
     "end_time": "2023-04-11T18:36:07.471610Z",
     "start_time": "2023-04-11T18:36:07.459573Z"
    }
   },
   "outputs": [],
   "source": [
    "import matplotlib.path as mpath\n",
    "\n",
    "def add_circle_boundary(ax):\n",
    "    '''Compute a circle in axes coordinates, which we can use as a boundary\n",
    "    for the map. We can pan/zoom as much as we like - the boundary will be\n",
    "    permanently circular.'''\n",
    "    theta = np.linspace(0, 2*np.pi, 100)\n",
    "    #center, radius = [0.5, 0.5], 0.5\n",
    "    center, radius = [0.5, 0.5], 1\n",
    "    verts = np.vstack([np.sin(theta), np.cos(theta)]).T\n",
    "    circle = mpath.Path(verts * radius + center)\n",
    "    ax.set_boundary(circle, transform=ax.transAxes)"
   ]
  },
  {
   "cell_type": "code",
   "execution_count": 6,
   "metadata": {
    "ExecuteTime": {
     "end_time": "2023-04-11T18:36:08.184630Z",
     "start_time": "2023-04-11T18:36:07.999523Z"
    }
   },
   "outputs": [
    {
     "ename": "",
     "evalue": "",
     "output_type": "error",
     "traceback": [
      "\u001b[1;31mCanceled future for execute_request message before replies were done"
     ]
    },
    {
     "ename": "",
     "evalue": "",
     "output_type": "error",
     "traceback": [
      "\u001b[1;31mThe Kernel crashed while executing code in the the current cell or a previous cell. Please review the code in the cell(s) to identify a possible cause of the failure. Click <a href='https://aka.ms/vscodeJupyterKernelCrash'>here</a> for more info. View Jupyter <a href='command:jupyter.viewOutput'>log</a> for further details."
     ]
    }
   ],
   "source": [
    "plt.figure(figsize=(6,6))\n",
    "\n",
    "proj = ccrs.Orthographic(central_latitude=90)\n",
    "geo = ccrs.Geodetic()\n",
    "prj_pnts = proj.transform_points(geo, pointings[:,0], pointings[:,1])\n",
    "ax = plt.axes(projection=proj)\n",
    "ax.plot(prj_pnts[:,0], prj_pnts[:,1], 'k.')\n",
    "add_circle_boundary(ax)\n",
    "ax.gridlines()\n",
    "_ = plt.title('Pointings (Orthographic)')"
   ]
  },
  {
   "cell_type": "markdown",
   "metadata": {},
   "source": [
    "In the worst case, the entire top row of pointings mapped to one single point at the pole. The other rows are only marignally better: the longitudes may be spaced every $3^\\circ$, but the actual separation between pointings on\n",
    "the sky is much less than that.\n",
    "\n",
    "We've spent 360 pointings covering about $\\pi (6^\\circ)^2\\approx110$ square degrees on the sky (roughly 3 pointings per square degree), but our beam had an angular area of about 28 square degrees. We could have Nyquist sampled this region with about $110 / (28 / 4)\\approx16$ pointings (the factor of 4 accounts for Nyquist sampling along two axes).\n",
    "\n",
    "A better way to go about sampling this area is to define a more uniform grid away from the pole of this coordinate system, and then to shift it up here."
   ]
  },
  {
   "cell_type": "code",
   "execution_count": null,
   "metadata": {
    "ExecuteTime": {
     "end_time": "2023-04-11T18:36:13.949780Z",
     "start_time": "2023-04-11T18:36:13.830514Z"
    }
   },
   "outputs": [],
   "source": [
    "# define a center point along the x axis (orthogonal to the z pole)\n",
    "theta0, phi0 = 90, 0 # deg\n",
    "\n",
    "# build some uniform spacings around this center\n",
    "ang_sep = 3 # deg\n",
    "thetas = np.deg2rad(theta0 + ang_sep * np.arange(-3, 4))\n",
    "phis = np.deg2rad(ang_sep * np.arange(-3, 4))\n",
    "\n",
    "# convert angles to 3-vectors for easier rotation\n",
    "x = np.outer(np.sin(thetas), np.cos(phis)).flatten()\n",
    "y = np.outer(np.sin(thetas), np.sin(phis)).flatten()\n",
    "z = np.outer(np.cos(thetas), np.ones_like(phis)).flatten()\n",
    "\n",
    "# rotate the x coordinate up to the z axis\n",
    "m = np.array([[ 0, 1, 0],\n",
    "              [ 0, 0,-1],\n",
    "              [ 1, 0, 0]])\n",
    "x, y, z = np.dot(m, np.array([x, y, z]))\n",
    "\n",
    "# turn 3-vectors back into angles\n",
    "thetas = np.arctan2(np.sqrt(x**2 + y**2), z)\n",
    "phis = np.arctan2(y, x)\n",
    "lat = 90 - np.rad2deg(thetas)\n",
    "lon = np.rad2deg(phis)\n",
    "\n",
    "pointings = np.array([(L, b) for L, b in zip(lon, lat)])\n",
    "\n",
    "plt.figure(figsize=(6,6))\n",
    "\n",
    "proj = ccrs.Orthographic(central_latitude=90)\n",
    "geo = ccrs.Geodetic()\n",
    "prj_pnts = proj.transform_points(geo, pointings[:,0], pointings[:,1])\n",
    "ax = plt.axes(projection=proj)\n",
    "ax.plot(prj_pnts[:,0], prj_pnts[:,1], 'k.')\n",
    "add_circle_boundary(ax)\n",
    "ax.gridlines()\n",
    "_ = plt.title('Pointings (Orthographic)')"
   ]
  },
  {
   "cell_type": "code",
   "execution_count": null,
   "metadata": {},
   "outputs": [],
   "source": []
  }
 ],
 "metadata": {
  "anaconda-cloud": {},
  "kernelspec": {
   "display_name": "Python 3",
   "language": "python",
   "name": "python3"
  },
  "language_info": {
   "codemirror_mode": {
    "name": "ipython",
    "version": 3
   },
   "file_extension": ".py",
   "mimetype": "text/x-python",
   "name": "python",
   "nbconvert_exporter": "python",
   "pygments_lexer": "ipython3",
   "version": "3.8.10"
  },
  "vscode": {
   "interpreter": {
    "hash": "31f2aee4e71d21fbe5cf8b01ff0e069b9275f58929596ceb00d14d90e3e16cd6"
   }
  }
 },
 "nbformat": 4,
 "nbformat_minor": 1
}
