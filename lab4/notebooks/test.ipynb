{
 "cells": [
  {
   "cell_type": "code",
   "execution_count": 44,
   "metadata": {},
   "outputs": [],
   "source": [
    "import numpy as np\n",
    "import matplotlib\n",
    "import astropy.units as u\n",
    "from astropy.coordinates import AltAz, EarthLocation, SkyCoord\n",
    "from astropy.time import Time\n",
    "from datetime import datetime\n",
    "from ugradio import leusch\n",
    "import astropy\n",
    "import time"
   ]
  },
  {
   "cell_type": "code",
   "execution_count": 27,
   "metadata": {},
   "outputs": [],
   "source": [
    "# leusch\n",
    "LOC = EarthLocation(lat=37.91934*u.deg, lon=122.15385*u.deg, height=304*u.m)\n",
    "ALT_MIN, ALT_MAX = leusch.ALT_MIN, leusch.ALT_MAX\n",
    "AZ_MIN, AZ_MAX = leusch.AZ_MIN, leusch.AZ_MAX\n",
    "\n",
    "def galactic_to_altaz(coord, time):\n",
    "    l, b = coord\n",
    "    g_sc = SkyCoord(frame=\"galactic\", l=l*u.deg, b=b*u.deg)\n",
    "    altaz_sc = g_sc.transform_to(AltAz(obstime=time, location=LOC))\n",
    "    return altaz_sc.alt.degree, altaz_sc.az.degree\n",
    "\n",
    "pointings = np.load('/home/zoeko/astro121lab/lab4/pointings.npy')\n",
    "for gal_coord in pointings:\n",
    "    alt, az = galactic_to_altaz(gal_coord, Time(datetime.now()))\n",
    "    l, b = gal_coord"
   ]
  },
  {
   "cell_type": "code",
   "execution_count": 50,
   "metadata": {},
   "outputs": [
    {
     "data": {
      "text/plain": [
       "1681932623.8417888"
      ]
     },
     "execution_count": 50,
     "metadata": {},
     "output_type": "execute_result"
    }
   ],
   "source": []
  },
  {
   "cell_type": "code",
   "execution_count": null,
   "metadata": {},
   "outputs": [],
   "source": []
  }
 ],
 "metadata": {
  "kernelspec": {
   "display_name": "Python 3",
   "language": "python",
   "name": "python3"
  },
  "language_info": {
   "codemirror_mode": {
    "name": "ipython",
    "version": 3
   },
   "file_extension": ".py",
   "mimetype": "text/x-python",
   "name": "python",
   "nbconvert_exporter": "python",
   "pygments_lexer": "ipython3",
   "version": "3.8.10"
  }
 },
 "nbformat": 4,
 "nbformat_minor": 4
}
