{
 "cells": [
  {
   "cell_type": "code",
   "execution_count": 55,
   "metadata": {},
   "outputs": [],
   "source": [
    "import numpy as np\n",
    "import matplotlib\n",
    "import astropy.units as u\n",
    "from astropy.coordinates import AltAz, EarthLocation, SkyCoord\n",
    "from astropy.time import Time\n",
    "from datetime import datetime\n",
    "from ugradio import leusch\n",
    "import astropy\n",
    "import time\n",
    "import ugradio"
   ]
  },
  {
   "cell_type": "code",
   "execution_count": 52,
   "metadata": {},
   "outputs": [],
   "source": [
    "# leusch\n",
    "LOC = EarthLocation(lat=37.91934*u.deg, lon=122.15385*u.deg, height=304*u.m)\n",
    "ALT_MIN, ALT_MAX = leusch.ALT_MIN, leusch.ALT_MAX\n",
    "AZ_MIN, AZ_MAX = leusch.AZ_MIN, leusch.AZ_MAX\n",
    "\n",
    "def galactic_to_altaz(coord, time):\n",
    "    l, b = coord\n",
    "    g_sc = SkyCoord(frame=\"galactic\", l=l*u.deg, b=b*u.deg)\n",
    "    altaz_sc = g_sc.transform_to(AltAz(obstime=time, location=LOC))\n",
    "    return altaz_sc.alt.degree, altaz_sc.az.degree\n",
    "\n",
    "pointings = np.load('/home/zoeko/astro121lab/lab4/pointings.npy')\n",
    "for gal_coord in pointings:\n",
    "    alt, az = galactic_to_altaz(gal_coord, Time(datetime.now()))\n",
    "    l, b = gal_coord"
   ]
  },
  {
   "cell_type": "code",
   "execution_count": 56,
   "metadata": {},
   "outputs": [],
   "source": [
    "# get the coordinates of the moon to test\n",
    "t = astropy.time.Time(time.time(), format='unix')\n",
    "moon = ugradio.coord.moonpos(jd=t, lat=ugradio.nch.lat, lon=ugradio.nch.lon, alt=ugradio.nch.alt)\n",
    "pointing = ugradio.coord.get_altaz(moon[0], moon[1], t, lat=ugradio.nch.lat, lon=ugradio.nch.lon, alt=ugradio.nch.alt)"
   ]
  },
  {
   "cell_type": "code",
   "execution_count": 58,
   "metadata": {},
   "outputs": [],
   "source": [
    "alt, az = pointing"
   ]
  },
  {
   "cell_type": "code",
   "execution_count": 59,
   "metadata": {},
   "outputs": [
    {
     "data": {
      "text/plain": [
       "60.30354110802191"
      ]
     },
     "execution_count": 59,
     "metadata": {},
     "output_type": "execute_result"
    }
   ],
   "source": [
    "alt"
   ]
  },
  {
   "cell_type": "code",
   "execution_count": null,
   "metadata": {},
   "outputs": [],
   "source": []
  }
 ],
 "metadata": {
  "kernelspec": {
   "display_name": "Python 3",
   "language": "python",
   "name": "python3"
  },
  "language_info": {
   "codemirror_mode": {
    "name": "ipython",
    "version": 3
   },
   "file_extension": ".py",
   "mimetype": "text/x-python",
   "name": "python",
   "nbconvert_exporter": "python",
   "pygments_lexer": "ipython3",
   "version": "3.8.10"
  }
 },
 "nbformat": 4,
 "nbformat_minor": 4
}
