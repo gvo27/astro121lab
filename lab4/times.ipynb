{
 "cells": [
  {
   "cell_type": "code",
   "execution_count": 9,
   "metadata": {},
   "outputs": [],
   "source": [
    "import numpy as np\n",
    "import astropy\n",
    "import matplotlib\n",
    "import astropy.units as u\n",
    "from astropy.coordinates import AltAz, EarthLocation, SkyCoord\n",
    "from astropy.time import Time\n",
    "from datetime import datetime\n",
    "\n",
    "from ugradio import leusch\n",
    "\n",
    "import matplotlib.pyplot as plt\n",
    "%matplotlib inline\n",
    "matplotlib.rcParams['figure.figsize'] = [12, 10]"
   ]
  },
  {
   "attachments": {},
   "cell_type": "markdown",
   "metadata": {},
   "source": [
    "! potential azimuth issue: ~5.2"
   ]
  },
  {
   "cell_type": "code",
   "execution_count": 8,
   "metadata": {},
   "outputs": [
    {
     "data": {
      "text/plain": [
       "datetime.datetime(2023, 4, 17, 23, 31, 20, 927994)"
      ]
     },
     "execution_count": 8,
     "metadata": {},
     "output_type": "execute_result"
    }
   ],
   "source": [
    "datetime.now()"
   ]
  },
  {
   "cell_type": "code",
   "execution_count": 44,
   "metadata": {},
   "outputs": [],
   "source": [
    "# leusch\n",
    "LOC = EarthLocation(lat=37.91934*u.deg, lon=122.15385*u.deg, height=304*u.m)\n",
    "ALT_MIN, ALT_MAX = leusch.ALT_MIN, leusch.ALT_MAX\n",
    "AZ_MIN, AZ_MAX = leusch.AZ_MIN, leusch.AZ_MAX\n",
    "\n",
    "def galactic_to_altaz(coord, time):\n",
    "    l, b = coord\n",
    "    g_sc = SkyCoord(frame=\"galactic\", l=l*u.deg, b=b*u.deg)\n",
    "    altaz_sc = g_sc.transform_to(AltAz(obstime=time, location=LOC))\n",
    "    return altaz_sc.alt.degree, altaz_sc.az.degree\n",
    "\n",
    "def observable_time(coord, time):\n",
    "    '''\n",
    "    given:\n",
    "    target (source) in galactic coordinates [LAT, LON]\n",
    "    time as an astropy time object\n",
    "    \n",
    "    assume:\n",
    "    location of telescope \n",
    "    range of telescope\n",
    "    \n",
    "    return:\n",
    "    a \"countdown time\" for the target coordinate \n",
    "    that counts the **quantity of observable altitude degrees**\n",
    "    until it is no longer in observable range\n",
    "    '''\n",
    "    alt, az = galactic_to_altaz(coord, time)\n",
    "    if (ALT_MIN < alt < ALT_MAX) and (AZ_MIN < az < AZ_MAX):\n",
    "        if 0 <= az < 180:\n",
    "            p = (ALT_MAX - alt) + (ALT_MAX - ALT_MIN)\n",
    "        else:\n",
    "            p = alt - ALT_MIN\n",
    "    else:\n",
    "        p = 0\n",
    "    assert p >= 0, 'bad p'\n",
    "    return p\n",
    "    "
   ]
  },
  {
   "cell_type": "code",
   "execution_count": 46,
   "metadata": {},
   "outputs": [
    {
     "data": {
      "text/plain": [
       "(59.50760863518871, 25.841796442598437)"
      ]
     },
     "execution_count": 46,
     "metadata": {},
     "output_type": "execute_result"
    }
   ],
   "source": [
    "galactic_to_altaz([120,0], Time(datetime.now()))"
   ]
  },
  {
   "cell_type": "code",
   "execution_count": 45,
   "metadata": {},
   "outputs": [
    {
     "data": {
      "text/plain": [
       "95.49471437982214"
      ]
     },
     "execution_count": 45,
     "metadata": {},
     "output_type": "execute_result"
    }
   ],
   "source": [
    "observable_time([120,0], Time(datetime.now()))"
   ]
  }
 ],
 "metadata": {
  "kernelspec": {
   "display_name": "venv",
   "language": "python",
   "name": "python3"
  },
  "language_info": {
   "codemirror_mode": {
    "name": "ipython",
    "version": 3
   },
   "file_extension": ".py",
   "mimetype": "text/x-python",
   "name": "python",
   "nbconvert_exporter": "python",
   "pygments_lexer": "ipython3",
   "version": "3.11.0"
  },
  "orig_nbformat": 4
 },
 "nbformat": 4,
 "nbformat_minor": 2
}
