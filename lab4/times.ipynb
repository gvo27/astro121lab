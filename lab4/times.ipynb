{
 "cells": [
  {
   "cell_type": "code",
   "execution_count": 2,
   "metadata": {},
   "outputs": [],
   "source": [
    "import numpy as np\n",
    "import matplotlib\n",
    "import astropy.units as u\n",
    "from astropy.coordinates import AltAz, EarthLocation, SkyCoord\n",
    "from astropy.time import Time\n",
    "from datetime import datetime\n",
    "\n",
    "from ugradio import leusch\n",
    "\n",
    "import matplotlib.pyplot as plt\n",
    "%matplotlib inline\n",
    "matplotlib.rcParams['figure.figsize'] = [12, 10]"
   ]
  },
  {
   "attachments": {},
   "cell_type": "markdown",
   "metadata": {},
   "source": [
    "! potential azimuth issue: ~5.2"
   ]
  },
  {
   "cell_type": "code",
   "execution_count": 4,
   "metadata": {},
   "outputs": [],
   "source": [
    "# leusch\n",
    "LOC = EarthLocation(lat=37.91934*u.deg, lon=122.15385*u.deg, height=304*u.m)\n",
    "ALT_MIN, ALT_MAX = leusch.ALT_MIN, leusch.ALT_MAX\n",
    "AZ_MIN, AZ_MAX = leusch.AZ_MIN, leusch.AZ_MAX\n",
    "\n",
    "def galactic_to_altaz(coord, time):\n",
    "    l, b = coord\n",
    "    g_sc = SkyCoord(frame=\"galactic\", l=l*u.deg, b=b*u.deg)\n",
    "    altaz_sc = g_sc.transform_to(AltAz(obstime=time, location=LOC))\n",
    "    return altaz_sc.alt.degree, altaz_sc.az.degree\n",
    "\n",
    "def observable_time(coord, time):\n",
    "    '''\n",
    "    given:\n",
    "    target (source) in galactic coordinates [LAT, LON]\n",
    "    time as an astropy time object\n",
    "    \n",
    "    assume:\n",
    "    location of telescope \n",
    "    range of telescope\n",
    "    \n",
    "    return:\n",
    "    a \"countdown time\" for the target coordinate \n",
    "    that counts the **relative quantity of observable altitude degrees**\n",
    "    until it is no longer in observable range\n",
    "    (not precise)\n",
    "    '''\n",
    "    alt, az = galactic_to_altaz(coord, time)\n",
    "    if (ALT_MIN < alt < ALT_MAX) and (AZ_MIN < az < AZ_MAX):\n",
    "        if 0 <= az < 180:\n",
    "            p = (ALT_MAX - alt) + (ALT_MAX - ALT_MIN)\n",
    "        else:\n",
    "            p = alt - ALT_MIN\n",
    "    else:\n",
    "        p = 0\n",
    "    assert p >= 0, 'bad p'\n",
    "    return p\n",
    "    "
   ]
  },
  {
   "cell_type": "code",
   "execution_count": 51,
   "metadata": {},
   "outputs": [
    {
     "name": "stdout",
     "output_type": "stream",
     "text": [
      "orion\n",
      "time now: 2023-04-18 14:46:14.739363\n",
      "altaz now: (-29.54279535116044, 297.69216577792633)\n",
      "observable now: False\n"
     ]
    }
   ],
   "source": [
    "orion_center = [189.32709197, -36.54216867]\n",
    "\n",
    "t = Time(datetime.now())\n",
    "print('orion')\n",
    "print(f'time now: {t.value}')\n",
    "print(f'altaz now: {galactic_to_altaz(orion_center, t)}')\n",
    "print(f'observable now: {observable_time(orion_center, t) > 0}')"
   ]
  },
  {
   "cell_type": "code",
   "execution_count": 48,
   "metadata": {},
   "outputs": [
    {
     "data": {
      "text/plain": [
       "Text(0, 0.5, 'estimate: remaining observable altitude [degrees]')"
      ]
     },
     "execution_count": 48,
     "metadata": {},
     "output_type": "execute_result"
    },
    {
     "data": {
      "image/png": "[encoded data removed]",
      "text/plain": [
       "<Figure size 864x720 with 1 Axes>"
      ]
     },
     "metadata": {
      "needs_background": "light"
     },
     "output_type": "display_data"
    }
   ],
   "source": [
    "future = 24*10 # hours\n",
    "times = Time(datetime.now()) + range(future)*u.h\n",
    "result = {}\n",
    "for t in times:\n",
    "    result[t.value] = observable_time(orion_center, t)\n",
    "\n",
    "x = [dt.hour for dt in list(result.keys())]\n",
    "y = list(result.values())\n",
    "plt.scatter(x, y)\n",
    "plt.title('When is orion observable?')\n",
    "plt.xlabel('[hours]')\n",
    "plt.ylabel('estimate: remaining observable altitude [degrees]')"
   ]
  }
 ],
 "metadata": {
  "kernelspec": {
   "display_name": "venv",
   "language": "python",
   "name": "python3"
  },
  "language_info": {
   "codemirror_mode": {
    "name": "ipython",
    "version": 3
   },
   "file_extension": ".py",
   "mimetype": "text/x-python",
   "name": "python",
   "nbconvert_exporter": "python",
   "pygments_lexer": "ipython3",
   "version": "3.8.10"
  },
  "orig_nbformat": 4
 },
 "nbformat": 4,
 "nbformat_minor": 2
}
