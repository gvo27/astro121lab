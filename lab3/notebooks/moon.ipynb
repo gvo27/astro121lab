{
 "cells": [
  {
   "cell_type": "markdown",
   "metadata": {},
   "source": [
    "# Moon data\n",
    "Analyze data from tracking the moon over a specific duration of time."
   ]
  },
  {
   "cell_type": "code",
   "execution_count": 1,
   "metadata": {},
   "outputs": [],
   "source": [
    "import ugradio\n",
    "import ugradio.coord\n",
    "import astropy.coordinates\n",
    "import astropy.time\n",
    "import time\n",
    "import numpy as np\n",
    "import matplotlib.pylab as plt\n",
    "import inspect\n",
    "import collections\n",
    "from scipy.interpolate import interp1d\n",
    "import glob\n",
    "# import emcee"
   ]
  },
  {
   "cell_type": "code",
   "execution_count": 2,
   "metadata": {},
   "outputs": [
    {
     "data": {
      "text/plain": [
       "174.0"
      ]
     },
     "execution_count": 2,
     "metadata": {},
     "output_type": "execute_result"
    }
   ],
   "source": [
    "ugradio.interf.ALT_MAX"
   ]
  },
  {
   "cell_type": "code",
   "execution_count": 3,
   "metadata": {},
   "outputs": [
    {
     "data": {
      "text/plain": [
       "6.0"
      ]
     },
     "execution_count": 3,
     "metadata": {},
     "output_type": "execute_result"
    }
   ],
   "source": [
    "ugradio.interf.ALT_MIN"
   ]
  },
  {
   "cell_type": "markdown",
   "metadata": {},
   "source": [
    "## Read in data"
   ]
  },
  {
   "cell_type": "code",
   "execution_count": 4,
   "metadata": {},
   "outputs": [],
   "source": [
    "# pwd = '/home/zoeko/astro121lab/lab3/data/moon/full_night_moon/'\n",
    "pwd = '/home/pi/Blueberry Pi/astro121lab/lab3/data/moon/full_night_moon/'\n",
    "\n",
    "def freq_to_period(freq):\n",
    "    '''take frequency (in kHz)\n",
    "    and converts to period (in microseconds)'''\n",
    "    return (1/freq) * 1000\n",
    "\n",
    "freq = 500 * 1000 * 1000 # Hz"
   ]
  },
  {
   "cell_type": "code",
   "execution_count": 5,
   "metadata": {},
   "outputs": [],
   "source": [
    "all_corrs = []\n",
    "all_acc_cnts = []\n",
    "all_times = []\n",
    "\n",
    "num_files = len(glob.glob(f'{pwd}moon*'))\n",
    "\n",
    "for i in np.arange(num_files):\n",
    "    fname = f'{pwd}moon_{i}.npy'\n",
    "    data = np.load(fname, allow_pickle=True).tolist()\n",
    "    all_corrs += [list(data['corr01'])]\n",
    "    all_acc_cnts += [data['acc_cnt']]\n",
    "    all_times += [data['time']]\n",
    "    \n",
    "real_all_corrs = np.array(all_corrs).real"
   ]
  },
  {
   "cell_type": "code",
   "execution_count": 6,
   "metadata": {},
   "outputs": [
    {
     "name": "stdout",
     "output_type": "stream",
     "text": [
      "540.0236318906149\n"
     ]
    }
   ],
   "source": [
    "total_duration = (all_times[-1]-all_times[0])/60\n",
    "print(total_duration)"
   ]
  },
  {
   "cell_type": "code",
   "execution_count": 5,
   "metadata": {},
   "outputs": [],
   "source": [
    "# for i in range(len(data)):\n",
    "#     data_block = data[i]\n",
    "#     corr = data_block['corr01'].real\n",
    "#     data_time = data_block['time']\n",
    "# #     time = np.arange(len(corr)) * freq_to_period(freq/10**3) # in microseconds\n",
    "#     plt.plot(corr)\n",
    "#     plt.xlabel('Time [microseconds]')\n",
    "#     plt.ylabel('Correlation')\n",
    "# plt.show()"
   ]
  },
  {
   "cell_type": "code",
   "execution_count": 6,
   "metadata": {},
   "outputs": [],
   "source": [
    "# # plot one block of data (waveform)\n",
    "# plt.figure()\n",
    "# plt.plot(corr)\n",
    "# plt.title('Single Block Correlation')\n",
    "# plt.xlabel('Time delay')\n",
    "# plt.ylabel('Correlation')\n",
    "# plt.show()\n",
    "\n",
    "# f = np.fft.fftshift(np.fft.fftfreq(1024, 1/freq))\n",
    "# Fx = np.fft.fftshift(np.fft.fft(corr))\n",
    "# pwr = np.abs(Fx)**2\n",
    "\n",
    "# # plot one block of data (FT)\n",
    "# plt.figure()\n",
    "# plt.plot(f/10**6, Fx)\n",
    "# plt.title('Single Block Fourier Transform')\n",
    "# plt.xlabel('Frequency [MHz]')\n",
    "# plt.ylabel('FT')\n",
    "# plt.show()\n",
    "\n",
    "# # plot one block of data (power)\n",
    "# plt.figure()\n",
    "# plt.plot(f/10**6, pwr)\n",
    "# plt.title('Single Block Fourier Transform Power Spectrum')\n",
    "# plt.xlabel('Frequency [MHz]')\n",
    "# plt.ylabel('Power')\n",
    "# plt.show()"
   ]
  },
  {
   "cell_type": "markdown",
   "metadata": {},
   "source": [
    "### Combine data into a 2-D array"
   ]
  },
  {
   "cell_type": "code",
   "execution_count": null,
   "metadata": {},
   "outputs": [],
   "source": [
    "# plot raw data in 2d where x and y are frequency and time and z is power\n",
    "# %matplotlib notebook\n",
    "plt.figure()\n",
    "plt.imshow(real_all_corrs, aspect='auto', interpolation='nearest')\n",
    "plt.ylabel('Time [obs #]')\n",
    "plt.xlabel('Frequency [GHz]')\n",
    "plt.show()"
   ]
  },
  {
   "cell_type": "code",
   "execution_count": null,
   "metadata": {},
   "outputs": [],
   "source": [
    "# remove data that has null values\n",
    "    \n",
    "nonzero_inds = np.where(real_all_corrs[0]!=0)[0]\n",
    "nonzero_all_corrs = real_all_corrs[:, nonzero_inds]\n",
    "\n",
    "plt.figure()\n",
    "plt.imshow(nonzero_all_corrs, aspect='auto', interpolation='nearest')\n",
    "plt.ylabel('Time [obs #]')\n",
    "plt.xlabel('Frequency [GHz]')\n",
    "plt.show()"
   ]
  },
  {
   "cell_type": "code",
   "execution_count": null,
   "metadata": {},
   "outputs": [],
   "source": [
    "# normalize data by averaging out vertically and subtracting out that average\n",
    "    \n",
    "avg = np.average(nonzero_all_corrs, axis=0)\n",
    "norm_all_corrs = nonzero_all_corrs - avg\n",
    "\n",
    "plt.figure()\n",
    "plt.imshow(norm_all_corrs, aspect='auto', interpolation='nearest')\n",
    "plt.ylabel('Time [obs #]')\n",
    "plt.xlabel('Frequency [GHz]')\n",
    "plt.show()"
   ]
  },
  {
   "cell_type": "code",
   "execution_count": null,
   "metadata": {},
   "outputs": [],
   "source": [
    "# np.angles shows the angle between the real and imaginary components (phase)\n",
    "# should be able to see the fringes moving across - slopes\n",
    "    \n",
    "plt.figure()\n",
    "plt.imshow(np.angle(norm_all_corrs), aspect='auto', interpolation='nearest')\n",
    "plt.ylabel('Time [obs #]')\n",
    "plt.xlabel('Frequency [GHz]')\n",
    "plt.show()"
   ]
  },
  {
   "cell_type": "markdown",
   "metadata": {},
   "source": [
    "### Look at 1-D data"
   ]
  },
  {
   "cell_type": "code",
   "execution_count": null,
   "metadata": {},
   "outputs": [],
   "source": [
    "for i in range(len(norm_all_corrs)):\n",
    "    corr = norm_all_corrs[i]\n",
    "#     data_time = data_block['time']\n",
    "#     time = np.arange(len(corr)) * freq_to_period(freq/10**3) # in microseconds\n",
    "    plt.plot(corr)\n",
    "    plt.xlabel('Time [microseconds]')\n",
    "    plt.ylabel('Correlation')\n",
    "plt.show()"
   ]
  },
  {
   "cell_type": "code",
   "execution_count": null,
   "metadata": {},
   "outputs": [],
   "source": [
    "# plot one block of data (waveform)\n",
    "plt.figure()\n",
    "plt.plot(corr)\n",
    "plt.title('Single Block Correlation')\n",
    "plt.xlabel('Time delay')\n",
    "plt.ylabel('Correlation')\n",
    "plt.show()\n",
    "\n",
    "f = np.fft.fftshift(np.fft.fftfreq(np.shape(norm_all_corrs)[1], 1/freq))\n",
    "Fx = np.fft.fftshift(np.fft.fft(corr))\n",
    "pwr = np.abs(Fx)**2\n",
    "\n",
    "# plot one block of data (FT)\n",
    "plt.figure()\n",
    "plt.plot(f/10**6, Fx)\n",
    "plt.title('Single Block Fourier Transform')\n",
    "plt.xlabel('Frequency [MHz]')\n",
    "plt.ylabel('FT')\n",
    "plt.show()\n",
    "\n",
    "# plot one block of data (power)\n",
    "plt.figure()\n",
    "plt.plot(f/10**6, pwr)\n",
    "plt.title('Single Block Fourier Transform Power Spectrum')\n",
    "plt.xlabel('Frequency [MHz]')\n",
    "plt.ylabel('Power')\n",
    "plt.show()"
   ]
  },
  {
   "cell_type": "markdown",
   "metadata": {},
   "source": [
    "### Explore phase shift in data"
   ]
  },
  {
   "cell_type": "code",
   "execution_count": null,
   "metadata": {},
   "outputs": [],
   "source": [
    "# %matplotlib notebook\n",
    "for i in range(len(norm_all_corrs)):\n",
    "    corr = norm_all_corrs[i]\n",
    "#     data_time = data_block['time']\n",
    "#     time = np.arange(len(corr)) * freq_to_period(freq/10**3) # in microseconds\n",
    "\n",
    "    f = np.fft.fftshift(np.fft.fftfreq(np.shape(norm_all_corrs)[1], 1/freq))\n",
    "    Fx = np.fft.fftshift(np.fft.fft(corr))\n",
    "    pwr = np.abs(Fx)**2\n",
    "\n",
    "    # plot one block of data (power)\n",
    "    plt.plot(f/10**6, pwr)\n",
    "\n",
    "plt.title('Single Block Fourier Transform Power Spectrum')\n",
    "plt.xlabel('Time Delay [ms]')\n",
    "plt.ylabel('Power')\n",
    "plt.xlim(-25, 25)\n",
    "plt.show()"
   ]
  },
  {
   "cell_type": "code",
   "execution_count": null,
   "metadata": {},
   "outputs": [],
   "source": [
    "data_block_0 = norm_all_corrs[0]\n",
    "# data_time_0 = data_block_0['time']\n",
    "\n",
    "plt.figure(dpi=300)\n",
    "\n",
    "t=0\n",
    "for i in np.linspace(0, len(norm_all_corrs)-1, 6).astype(int):\n",
    "    corr = norm_all_corrs[i]\n",
    "#     data_time = data_block['time']\n",
    "#     time = np.arange(len(corr)) * freq_to_period(freq/10**3) # in microseconds\n",
    "\n",
    "    f = np.fft.fftshift(np.fft.fftfreq(np.shape(norm_all_corrs)[1], 1/freq))\n",
    "    Fx = np.fft.fftshift(np.fft.fft(corr))\n",
    "    pwr = np.abs(Fx)**2\n",
    "\n",
    "    # plot one block of data (power)\n",
    "#     time_elapsed = int((data_time-data_time_0)/60)\n",
    "    plt.plot(f/10**6, pwr)\n",
    "    t+=1\n",
    "\n",
    "# plt.legend()\n",
    "plt.title('Power Spectrum')\n",
    "plt.xlabel('Time Delay [ms]')\n",
    "plt.ylabel('Power')\n",
    "plt.xlim(-25, 25)\n",
    "plt.show()"
   ]
  },
  {
   "cell_type": "code",
   "execution_count": null,
   "metadata": {},
   "outputs": [],
   "source": [
    "# plot one channel of frequency to get power vs time, should be bessel function "
   ]
  },
  {
   "cell_type": "code",
   "execution_count": null,
   "metadata": {},
   "outputs": [],
   "source": [
    "# plot time delay as a function of time"
   ]
  },
  {
   "cell_type": "code",
   "execution_count": null,
   "metadata": {},
   "outputs": [],
   "source": []
  }
 ],
 "metadata": {
  "kernelspec": {
   "display_name": "Python 3",
   "language": "python",
   "name": "python3"
  },
  "language_info": {
   "codemirror_mode": {
    "name": "ipython",
    "version": 3
   },
   "file_extension": ".py",
   "mimetype": "text/x-python",
   "name": "python",
   "nbconvert_exporter": "python",
   "pygments_lexer": "ipython3",
   "version": "3.9.2"
  }
 },
 "nbformat": 4,
 "nbformat_minor": 4
}
