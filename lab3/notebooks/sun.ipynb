{
 "cells": [
  {
   "cell_type": "code",
   "execution_count": 1,
   "metadata": {},
   "outputs": [],
   "source": [
    "import ugradio\n",
    "import numpy as np\n",
    "import matplotlib.pylab as plt\n",
    "import inspect\n",
    "import collections\n",
    "from scipy.interpolate import interp1d\n",
    "import emcee"
   ]
  },
  {
   "cell_type": "code",
   "execution_count": 2,
   "metadata": {},
   "outputs": [],
   "source": [
    "# pwd = '/home/zoeko/astro121lab/lab2/data/sec9/'\n",
    "pwd = '/home/radiopi/Desktop/'\n",
    "\n",
    "def freq_to_period(freq):\n",
    "    '''take frequency (in kHz)\n",
    "    and converts to period (in microseconds)'''\n",
    "    return (1/freq) * 1000"
   ]
  },
  {
   "cell_type": "code",
   "execution_count": null,
   "metadata": {},
   "outputs": [],
   "source": [
    "fname = f'{pwd}500_sdr_floating3200.npy'\n",
    "data = np.load(fname)\n",
    "\n",
    "# plot one block of data (waveform)\n",
    "plt.figure()\n",
    "plt.plot(time, data[0])\n",
    "plt.scatter(time, data[0])\n",
    "plt.xlim(80, 85)\n",
    "plt.title('Single block Waveform')\n",
    "plt.xlabel('Time [microseconds]')\n",
    "plt.ylabel('Voltage [V]')\n",
    "vpp = max(data[0])-min(data[0])\n",
    "print('input vpp: 0.5')\n",
    "print(f'measured vpp: {vpp}')\n",
    "print(f'voltage scale: {vpp/0.5}')\n",
    "plt.show()"
   ]
  }
 ],
 "metadata": {
  "kernelspec": {
   "display_name": "Python 3",
   "language": "python",
   "name": "python3"
  },
  "language_info": {
   "codemirror_mode": {
    "name": "ipython",
    "version": 3
   },
   "file_extension": ".py",
   "mimetype": "text/x-python",
   "name": "python",
   "nbconvert_exporter": "python",
   "pygments_lexer": "ipython3",
   "version": "3.8.10"
  }
 },
 "nbformat": 4,
 "nbformat_minor": 4
}
