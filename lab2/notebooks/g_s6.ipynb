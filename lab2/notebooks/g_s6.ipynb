{
 "cells": [
  {
   "cell_type": "code",
   "execution_count": 1,
   "metadata": {},
   "outputs": [],
   "source": [
    "import ugradio\n",
    "import numpy as np\n",
    "import matplotlib.pylab as plt\n",
    "from scipy.stats import binned_statistic\n",
    "import datetime"
   ]
  },
  {
   "cell_type": "code",
   "execution_count": 2,
   "metadata": {},
   "outputs": [],
   "source": [
    "obs_time = datetime.datetime(2023, 2, 15, 14, 37)"
   ]
  },
  {
   "cell_type": "code",
   "execution_count": 16,
   "metadata": {},
   "outputs": [],
   "source": [
    "def freq_to_period(freq):\n",
    "    '''take frequency (in kHz)\n",
    "    and converts to period (in microseconds)'''\n",
    "    return (1/freq) * 1000\n",
    "\n",
    "pwd = '../data/'\n",
    "all_data = {}\n",
    "for fins in ['on', 'off', 'cold', 'cal']:\n",
    "    fname = f'{pwd}s_' + fins + '_3200.npy'\n",
    "    all_data[fins] = np.load(fname)\n",
    "\n",
    "freq_0 = 1420.4058e6 # Hz\n",
    "num_samples = 2048 \n",
    "samp_rate = 3.2e6 # Hz\n",
    "c_speed = 299792458 # m/s"
   ]
  },
  {
   "cell_type": "code",
   "execution_count": 4,
   "metadata": {},
   "outputs": [],
   "source": [
    "def fft(data, num_samp=2048, samp_rate=3.2e6):\n",
    "    f = np.fft.fftshift(np.fft.fftfreq(num_samp, 1/samp_rate))\n",
    "    Fx = np.fft.fftshift(np.fft.fft(data))\n",
    "    return f, Fx"
   ]
  },
  {
   "cell_type": "code",
   "execution_count": 5,
   "metadata": {},
   "outputs": [],
   "source": [
    "def avg_power(dname):\n",
    "    data = all_data[dname]\n",
    "    f, Fx = fft(data)\n",
    "    pwr = np.abs(Fx)**2\n",
    "    avg_pwr = np.mean(pwr, axis=0)\n",
    "    return f, avg_pwr"
   ]
  },
  {
   "cell_type": "code",
   "execution_count": 6,
   "metadata": {},
   "outputs": [],
   "source": [
    "def plot_avg_power(dname):\n",
    "    data = all_data[dname]\n",
    "    num_blocks = data.shape[0]\n",
    "    num_samples = data.shape[1]\n",
    "    time = np.arange(data.shape[1]) * freq_to_period(samp_rate/10**3) # in microseconds\n",
    "\n",
    "    f, Fx = fft(data)\n",
    "    pwr = np.abs(Fx)**2\n",
    "    avg_pwr = np.mean(pwr, axis=0)\n",
    "\n",
    "    # plot average power\n",
    "    plt.figure()\n",
    "    plt.plot(f, avg_pwr)\n",
    "    plt.title('s_' + dname + ' Average Power Spectrum \\n N = ' + str(num_blocks) + ' Blocks')\n",
    "    plt.xlabel('Frequency')\n",
    "    plt.ylabel('Average Power')\n",
    "    plt.show()\n",
    "# plot_avg_power()"
   ]
  },
  {
   "cell_type": "code",
   "execution_count": 25,
   "metadata": {},
   "outputs": [
    {
     "data": {
      "image/png": "[encoded data removed]",
      "text/plain": [
       "<Figure size 432x288 with 1 Axes>"
      ]
     },
     "metadata": {
      "needs_background": "light"
     },
     "output_type": "display_data"
    }
   ],
   "source": [
    "dname = 'cal'\n",
    "data = all_data[dname]\n",
    "num_blocks = data.shape[0]\n",
    "num_samples = data.shape[1]\n",
    "time = np.arange(data.shape[1]) * freq_to_period(samp_rate/10**3) # in microseconds\n",
    "\n",
    "f, Fx = fft(data)\n",
    "pwr = np.abs(Fx)**2\n",
    "avg_pwr = np.mean(pwr, axis=0)\n",
    "\n",
    "# plot average power\n",
    "plt.figure()\n",
    "plt.plot(f*10**-6, avg_pwr, label='cal')\n",
    "plt.title('Average Power Spectrum \\n N = ' + str(num_blocks) + ' Blocks')\n",
    "plt.xlabel('Frequency [MHz]')\n",
    "plt.ylabel('Power')\n",
    "\n",
    "dname = 'cold'\n",
    "data = all_data[dname]\n",
    "num_blocks = data.shape[0]\n",
    "num_samples = data.shape[1]\n",
    "time = np.arange(data.shape[1]) * freq_to_period(samp_rate/10**3) # in microseconds\n",
    "\n",
    "f, Fx = fft(data)\n",
    "pwr = np.abs(Fx)**2\n",
    "avg_pwr = np.mean(pwr, axis=0)\n",
    "\n",
    "plt.plot(f*10**-6, avg_pwr, label='cold')\n",
    "plt.legend()\n",
    "plt.show()"
   ]
  },
  {
   "cell_type": "code",
   "execution_count": 24,
   "metadata": {},
   "outputs": [
    {
     "name": "stdout",
     "output_type": "stream",
     "text": [
      "frequency resolution = 2083.3333333333335 [units of samp_rate]\n"
     ]
    },
    {
     "data": {
      "text/plain": [
       "2083.3333333333335"
      ]
     },
     "execution_count": 24,
     "metadata": {},
     "output_type": "execute_result"
    }
   ],
   "source": [
    "def freq_resolution(samp_rate, num_samples):\n",
    "    result = samp_rate / num_samples\n",
    "    print('frequency resolution = ' + str(result) + ' [units of samp_rate]')\n",
    "    return result\n",
    "\n",
    "freq_resolution(samp_rate, 512*3)"
   ]
  },
  {
   "cell_type": "code",
   "execution_count": 9,
   "metadata": {},
   "outputs": [],
   "source": [
    "def adjust_freq_res(freqs, data, bins):\n",
    "    bin_means, bin_edges, binnumber = binned_statistic(freqs, data, bins=bins)\n",
    "    return bin_edges[:-1], bin_means"
   ]
  },
  {
   "cell_type": "code",
   "execution_count": 10,
   "metadata": {},
   "outputs": [],
   "source": [
    "import math\n",
    "\n",
    "def get_julian_datetime(date):\n",
    "    \"\"\"\n",
    "    Convert a datetime object into julian float.\n",
    "    Args:\n",
    "        date: datetime-object of date in question\n",
    "\n",
    "    Returns: float - Julian calculated datetime.\n",
    "    Raises: \n",
    "        TypeError : Incorrect parameter type\n",
    "        ValueError: Date out of range of equation\n",
    "    \"\"\"\n",
    "\n",
    "    # Ensure correct format\n",
    "    if not isinstance(date, datetime.datetime):\n",
    "        raise TypeError('Invalid type for parameter \"date\" - expecting datetime')\n",
    "    elif date.year < 1801 or date.year > 2099:\n",
    "        raise ValueError('Datetime must be between year 1801 and 2099')\n",
    "\n",
    "    # Perform the calculation\n",
    "    julian_datetime = 367 * date.year - int((7 * (date.year + int((date.month + 9) / 12.0))) / 4.0) + int(\n",
    "        (275 * date.month) / 9.0) + date.day + 1721013.5 + (\n",
    "                          date.hour + date.minute / 60.0 + date.second / math.pow(60,\n",
    "                                                                                  2)) / 24.0 - 0.5 * math.copysign(\n",
    "        1, 100 * date.year + date.month - 190002.5) + 0.5\n",
    "\n",
    "    return julian_datetime"
   ]
  },
  {
   "cell_type": "code",
   "execution_count": 11,
   "metadata": {},
   "outputs": [
    {
     "data": {
      "text/plain": [
       "<SkyCoord (ICRS): (ra, dec) in deg\n",
       "    (6.45083114, 62.72572675)>"
      ]
     },
     "execution_count": 11,
     "metadata": {},
     "output_type": "execute_result"
    }
   ],
   "source": [
    "import astropy.units as u\n",
    "from astropy.coordinates import AltAz, EarthLocation, SkyCoord, ICRS\n",
    "from astropy.time import Time\n",
    "from ugradio import nch\n",
    "\n",
    "# RPI TIME IS WRONG\n",
    "\n",
    "c = SkyCoord(frame=\"galactic\", l=120*u.deg, b=0*u.deg)\n",
    "lab = EarthLocation(lat=nch.lat*u.deg, lon=nch.lon*u.deg, height=nch.alt*u.m)\n",
    "# obstime = Time(datetime.datetime.utcnow(), scale='utc', location=lab)\n",
    "c.transform_to(ICRS())"
   ]
  },
  {
   "cell_type": "code",
   "execution_count": 15,
   "metadata": {},
   "outputs": [
    {
     "data": {
      "text/latex": [
       "$-17589.206 \\; \\mathrm{\\frac{m}{s}}$"
      ],
      "text/plain": [
       "<Quantity -17589.20564131 m / s>"
      ]
     },
     "execution_count": 15,
     "metadata": {},
     "output_type": "execute_result"
    }
   ],
   "source": [
    "ugradio.doppler.get_projected_velocity(6.45, 62.72, get_julian_datetime(obs_time))"
   ]
  },
  {
   "cell_type": "code",
   "execution_count": 41,
   "metadata": {},
   "outputs": [
    {
     "data": {
      "image/png": "[encoded data removed]",
      "text/plain": [
       "<Figure size 432x288 with 1 Axes>"
      ]
     },
     "metadata": {
      "needs_background": "light"
     },
     "output_type": "display_data"
    },
    {
     "data": {
      "image/png": "[encoded data removed]",
      "text/plain": [
       "<Figure size 432x288 with 1 Axes>"
      ]
     },
     "metadata": {
      "needs_background": "light"
     },
     "output_type": "display_data"
    }
   ],
   "source": [
    "adj_data = {}\n",
    "f_domain = []\n",
    "adj_freq_res = num_samples/1.25\n",
    "for fins in ['on', 'off', 'cold', 'cal']:\n",
    "    data = all_data[fins]\n",
    "    \n",
    "    # average the power spectra of all blocks in data\n",
    "    f, avg_pwr = avg_power(fins)\n",
    "    \n",
    "    # adjust frequency resolution to ~2 kHz\n",
    "    if fins == 'cold' or fins == 'cal':\n",
    "        adj_f, adj_pwr = f, avg_pwr\n",
    "    else:\n",
    "        adj_f, adj_pwr = adjust_freq_res(f, avg_pwr, adj_freq_res)\n",
    "        f_domain = adj_f\n",
    "    \n",
    "    # save data\n",
    "    adj_data[fins] = adj_pwr\n",
    "    # f_domain = adj_f\n",
    "\n",
    "s_on = adj_data['on']\n",
    "s_off = adj_data['off']\n",
    "s_cold = adj_data['cold']\n",
    "s_cal = adj_data['cal']\n",
    "\n",
    "# calc s_line\n",
    "s_line = s_on / s_off\n",
    "\n",
    "# calc G\n",
    "T_syscal = 300\n",
    "G = (T_syscal / np.sum(s_cal - s_cold)) * np.sum(s_cold) / 20\n",
    "\n",
    "# calc T_line\n",
    "T_line = np.multiply(s_line, G)\n",
    "\n",
    "# freq to velocity domain conversion\n",
    "v_domain = - (f_domain - freq_0) * c_speed / freq_0 - 17589.206 # m/s\n",
    "\n",
    "\n",
    "plt.plot((f_domain + freq_0) * 10**-6, T_line, color='blue', label='$T_{line}$')\n",
    "plt.axvline(freq_0 * 10**-6, color='r', label=str(freq_0*10**-6)+ ' MHz')\n",
    "plt.title('T_line vs Freq')\n",
    "plt.xlabel('Frequency [$MHz$]')\n",
    "plt.ylabel('Temperature [$K$]')\n",
    "plt.legend()\n",
    "plt.show()\n",
    "\n",
    "plt.plot(v_domain * 10**-3, T_line, color='blue', label='$T_{line}$')\n",
    "plt.axvline(c_speed * 10**-3, color='r', label='speed of light')\n",
    "plt.title('T_line vs Velocity')\n",
    "plt.xlabel('Velocity [$km s^{-1}$]')\n",
    "plt.ylabel('Temperature [$K$]')\n",
    "plt.legend()\n",
    "plt.show()"
   ]
  },
  {
   "cell_type": "code",
   "execution_count": 42,
   "metadata": {},
   "outputs": [
    {
     "name": "stdout",
     "output_type": "stream",
     "text": [
      "392.5933615649237\n"
     ]
    }
   ],
   "source": [
    "print(G)"
   ]
  }
 ],
 "metadata": {
  "kernelspec": {
   "display_name": "Python 3",
   "language": "python",
   "name": "python3"
  },
  "language_info": {
   "codemirror_mode": {
    "name": "ipython",
    "version": 3
   },
   "file_extension": ".py",
   "mimetype": "text/x-python",
   "name": "python",
   "nbconvert_exporter": "python",
   "pygments_lexer": "ipython3",
   "version": "3.8.10"
  },
  "orig_nbformat": 4,
  "vscode": {
   "interpreter": {
    "hash": "31f2aee4e71d21fbe5cf8b01ff0e069b9275f58929596ceb00d14d90e3e16cd6"
   }
  }
 },
 "nbformat": 4,
 "nbformat_minor": 2
}
