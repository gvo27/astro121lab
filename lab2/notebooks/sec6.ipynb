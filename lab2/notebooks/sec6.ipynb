{
 "cells": [
  {
   "cell_type": "code",
   "execution_count": 1,
   "id": "compliant-foster",
   "metadata": {},
   "outputs": [],
   "source": [
    "import ugradio\n",
    "import numpy as np\n",
    "import matplotlib.pylab as plt\n",
    "import inspect\n",
    "import collections"
   ]
  },
  {
   "cell_type": "code",
   "execution_count": 2,
   "id": "increasing-american",
   "metadata": {},
   "outputs": [],
   "source": [
    "pwd = '/home/zoeko/astro121lab/lab2/'\n",
    "\n",
    "def freq_to_period(freq):\n",
    "    '''take frequency (in kHz)\n",
    "    and converts to period (in microseconds)'''\n",
    "    return (1/freq) * 1000"
   ]
  },
  {
   "cell_type": "code",
   "execution_count": null,
   "id": "specified-trade",
   "metadata": {},
   "outputs": [],
   "source": [
    "freq = 3200\n",
    "fname = f'{pwd}'\n",
    "data = np.load(fname)[0]\n",
    "time = np.arange(len(data)) * freq_to_period(freq) # in microseconds\n",
    "\n",
    "plt.figure()\n",
    "plt.plot(time, data)\n",
    "plt.scatter(time, data)\n",
    "# plt.xlim(65, 100)\n",
    "plt.title('Waveform')\n",
    "plt.xlabel('Time [microseconds]')\n",
    "plt.ylabel('Voltage [V]')\n",
    "plt.show()\n",
    "\n",
    "f, Fx = ugradio.dft.dft(data, vsamp=freq/1000)\n",
    "\n",
    "plt.figure()\n",
    "plt.plot(f, Fx)\n",
    "plt.title('Fourier Transform')\n",
    "plt.xlabel('Frequency')\n",
    "plt.ylabel('Power')\n",
    "plt.show()\n",
    "\n",
    "plt.figure()\n",
    "plt.plot(f, np.abs(Fx)**2)\n",
    "plt.title('Power Spectrum')\n",
    "plt.xlabel('Frequency')\n",
    "plt.ylabel('Power')\n",
    "plt.show()"
   ]
  }
 ],
 "metadata": {
  "kernelspec": {
   "display_name": "Python 3",
   "language": "python",
   "name": "python3"
  },
  "language_info": {
   "codemirror_mode": {
    "name": "ipython",
    "version": 3
   },
   "file_extension": ".py",
   "mimetype": "text/x-python",
   "name": "python",
   "nbconvert_exporter": "python",
   "pygments_lexer": "ipython3",
   "version": "3.9.2"
  }
 },
 "nbformat": 4,
 "nbformat_minor": 5
}
