{
 "cells": [
  {
   "cell_type": "code",
   "execution_count": 1,
   "metadata": {},
   "outputs": [],
   "source": [
    "import astropy.units as u\n",
    "import datetime\n",
    "import math\n",
    "from astropy.coordinates import AltAz, EarthLocation, SkyCoord, ICRS\n",
    "from astropy.time import Time\n",
    "from ugradio import nch, doppler\n",
    "\n",
    "# RPI TIME MAY BE WRONG\n",
    "\n",
    "# lab location\n",
    "lab = EarthLocation(lat=nch.lat*u.deg, lon=nch.lon*u.deg, height=nch.alt*u.m)"
   ]
  },
  {
   "cell_type": "code",
   "execution_count": null,
   "metadata": {},
   "outputs": [],
   "source": [
    "def get_julian_datetime(date):\n",
    "    \"\"\"\n",
    "    Convert a datetime object into julian float.\n",
    "    Args:\n",
    "        date: datetime-object of date in question\n",
    "\n",
    "    Returns: float - Julian calculated datetime.\n",
    "    Raises: \n",
    "        TypeError : Incorrect parameter type\n",
    "        ValueError: Date out of range of equation\n",
    "    \"\"\"\n",
    "\n",
    "    # Ensure correct format\n",
    "    if not isinstance(date, datetime.datetime):\n",
    "        raise TypeError('Invalid type for parameter \"date\" - expecting datetime')\n",
    "    elif date.year < 1801 or date.year > 2099:\n",
    "        raise ValueError('Datetime must be between year 1801 and 2099')\n",
    "\n",
    "    # Perform the calculation\n",
    "    julian_datetime = 367 * date.year - int((7 * (date.year + int((date.month + 9) / 12.0))) / 4.0) + int(\n",
    "        (275 * date.month) / 9.0) + date.day + 1721013.5 + (\n",
    "                          date.hour + date.minute / 60.0 + date.second / math.pow(60,\n",
    "                                                                                  2)) / 24.0 - 0.5 * math.copysign(\n",
    "        1, 100 * date.year + date.month - 190002.5) + 0.5\n",
    "\n",
    "    return julian_datetime"
   ]
  },
  {
   "cell_type": "code",
   "execution_count": null,
   "metadata": {},
   "outputs": [],
   "source": [
    "# target coordinates\n",
    "c = SkyCoord(frame=\"galactic\", l=120*u.deg, b=0*u.deg)\n",
    "\n",
    "# observation time\n",
    "obstime = Time(datetime.datetime.utcnow(), scale='utc', location=lab)\n",
    "\n",
    "# output coordinates\n",
    "c.transform_to(ICRS())"
   ]
  },
  {
   "cell_type": "code",
   "execution_count": null,
   "metadata": {},
   "outputs": [],
   "source": [
    "obs_time = datetime.datetime(2023, 2, 15, 14, 37)\n",
    "doppler.get_projected_velocity(6.45, 62.72, get_julian_datetime(obs_time))"
   ]
  }
 ],
 "metadata": {
  "kernelspec": {
   "display_name": "Python 3",
   "language": "python",
   "name": "python3"
  },
  "language_info": {
   "codemirror_mode": {
    "name": "ipython",
    "version": 3
   },
   "file_extension": ".py",
   "mimetype": "text/x-python",
   "name": "python",
   "nbconvert_exporter": "python",
   "pygments_lexer": "ipython3",
   "version": "3.8.10"
  },
  "orig_nbformat": 4,
  "vscode": {
   "interpreter": {
    "hash": "31f2aee4e71d21fbe5cf8b01ff0e069b9275f58929596ceb00d14d90e3e16cd6"
   }
  }
 },
 "nbformat": 4,
 "nbformat_minor": 2
}
