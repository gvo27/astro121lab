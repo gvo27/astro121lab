{
 "cells": [
  {
   "cell_type": "code",
   "execution_count": 1,
   "metadata": {},
   "outputs": [
    {
     "name": "stdout",
     "output_type": "stream",
     "text": [
      "Error loading librtlsdr. Make sure librtlsdr (and all of its dependencies) are in your path\n"
     ]
    }
   ],
   "source": [
    "import astropy.units as u\n",
    "import datetime\n",
    "import math\n",
    "from astropy.coordinates import AltAz, EarthLocation, SkyCoord, ICRS\n",
    "from astropy.time import Time\n",
    "from ugradio import nch, doppler\n",
    "\n",
    "# RPI TIME MAY BE WRONG\n",
    "\n",
    "# lab location\n",
    "lab = EarthLocation(lat=nch.lat*u.deg, lon=nch.lon*u.deg, height=nch.alt*u.m)"
   ]
  },
  {
   "cell_type": "code",
   "execution_count": 2,
   "metadata": {},
   "outputs": [],
   "source": [
    "def get_julian_datetime(date):\n",
    "    \"\"\"\n",
    "    Convert a datetime object into julian float.\n",
    "    Args:\n",
    "        date: datetime-object of date in question\n",
    "\n",
    "    Returns: float - Julian calculated datetime.\n",
    "    Raises: \n",
    "        TypeError : Incorrect parameter type\n",
    "        ValueError: Date out of range of equation\n",
    "    \"\"\"\n",
    "\n",
    "    # Ensure correct format\n",
    "    if not isinstance(date, datetime.datetime):\n",
    "        raise TypeError('Invalid type for parameter \"date\" - expecting datetime')\n",
    "    elif date.year < 1801 or date.year > 2099:\n",
    "        raise ValueError('Datetime must be between year 1801 and 2099')\n",
    "\n",
    "    # Perform the calculation\n",
    "    julian_datetime = 367 * date.year - int((7 * (date.year + int((date.month + 9) / 12.0))) / 4.0) + int(\n",
    "        (275 * date.month) / 9.0) + date.day + 1721013.5 + (\n",
    "                          date.hour + date.minute / 60.0 + date.second / math.pow(60,\n",
    "                                                                                  2)) / 24.0 - 0.5 * math.copysign(\n",
    "        1, 100 * date.year + date.month - 190002.5) + 0.5\n",
    "\n",
    "    return julian_datetime"
   ]
  },
  {
   "cell_type": "code",
   "execution_count": 10,
   "metadata": {},
   "outputs": [
    {
     "data": {
      "text/plain": [
       "<SkyCoord (AltAz: obstime=2023-02-23 23:57:11.952870, location=(-2690570.65408925, -4263131.81441035, 3894417.3498527) m, pressure=0.0 hPa, temperature=0.0 deg_C, relative_humidity=0.0, obswl=1.0 micron): (az, alt) in deg\n",
       "    (337.50773218, 61.11327481)>"
      ]
     },
     "execution_count": 10,
     "metadata": {},
     "output_type": "execute_result"
    }
   ],
   "source": [
    "# target coordinates\n",
    "c = SkyCoord(frame=\"galactic\", l=120*u.deg, b=0*u.deg)\n",
    "\n",
    "# observation time\n",
    "obstime = Time(datetime.datetime.utcnow(), scale='utc', location=lab)\n",
    "\n",
    "# output coordinates\n",
    "c.transform_to(AltAz(obstime=obstime, location=lab))"
   ]
  },
  {
   "cell_type": "code",
   "execution_count": 12,
   "metadata": {},
   "outputs": [
    {
     "data": {
      "text/plain": [
       "<SkyCoord (ICRS): (ra, dec) in deg\n",
       "    (6.45083114, 62.72572675)>"
      ]
     },
     "execution_count": 12,
     "metadata": {},
     "output_type": "execute_result"
    }
   ],
   "source": [
    "obs_time = datetime.datetime(2023, 2, 17, 3, 35)\n",
    "\n",
    "# observation time\n",
    "obstime = Time(obs_time, scale='utc', location=lab)\n",
    "\n",
    "# target coordinates\n",
    "c = SkyCoord(frame=\"galactic\", l=120*u.deg, b=0*u.deg, obstime=obstime)\n",
    "\n",
    "# output coordinates\n",
    "c.transform_to(ICRS())\n",
    "\n",
    "doppler.get_projected_velocity(347.38401339, 63.94738458, get_julian_datetime(obs_time))"
   ]
  },
  {
   "cell_type": "code",
   "execution_count": 7,
   "metadata": {},
   "outputs": [
    {
     "data": {
      "text/latex": [
       "$-13985.498 \\; \\mathrm{\\frac{m}{s}}$"
      ],
      "text/plain": [
       "<Quantity -13985.49838828 m / s>"
      ]
     },
     "execution_count": 7,
     "metadata": {},
     "output_type": "execute_result"
    }
   ],
   "source": []
  }
 ],
 "metadata": {
  "kernelspec": {
   "display_name": "venv",
   "language": "python",
   "name": "python3"
  },
  "language_info": {
   "codemirror_mode": {
    "name": "ipython",
    "version": 3
   },
   "file_extension": ".py",
   "mimetype": "text/x-python",
   "name": "python",
   "nbconvert_exporter": "python",
   "pygments_lexer": "ipython3",
   "version": "3.10.4"
  },
  "orig_nbformat": 4,
  "vscode": {
   "interpreter": {
    "hash": "2b73f93503f2747898376c703fb5d551c75cfe2db2c8201549534e08376dda10"
   }
  }
 },
 "nbformat": 4,
 "nbformat_minor": 2
}
